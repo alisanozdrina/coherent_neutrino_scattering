{
 "cells": [
  {
   "cell_type": "markdown",
   "metadata": {},
   "source": [
    "# Here one can see plots of all cross section that we have in the project"
   ]
  },
  {
   "cell_type": "markdown",
   "metadata": {},
   "source": [
    "##### importing and constant defining section:"
   ]
  },
  {
   "cell_type": "code",
   "execution_count": 2,
   "metadata": {
    "collapsed": true
   },
   "outputs": [],
   "source": [
    "import matplotlib.pyplot as plt\n",
    "from numpy import linspace\n",
    "%matplotlib inline\n",
    "\n",
    "import src.coherent_neutrino_nucleus as cn\n",
    "import src.phys_constants as p_const\n",
    "\n",
    "Xe_N = 77\n",
    "Xe_Z = 54\n",
    "Ar_N = 21\n",
    "Ar_Z = 18\n",
    "Ge_N = 41\n",
    "Ge_Z = 32\n",
    "\n",
    "Ar_M = 38.964313 * p_const.ATOMIC_MASS_UNIT # MeV\n",
    "Xe_M = 130.905082 * p_const.ATOMIC_MASS_UNIT # MeV"
   ]
  },
  {
   "cell_type": "markdown",
   "metadata": {},
   "source": [
    "### Total cross section of the neutrino coherent scattering on the nucleus"
   ]
  },
  {
   "cell_type": "markdown",
   "metadata": {},
   "source": [
    "$$\\nu + _Z^AN \\rightarrow \\nu + _Z^AN$$\n"
   ]
  },
  {
   "cell_type": "markdown",
   "metadata": {},
   "source": [
    "$$ \\sigma_{total} = \\frac{G^2_F}{4\\pi}E_{\\nu}^2 Q^2_{W}$$"
   ]
  },
  {
   "cell_type": "markdown",
   "metadata": {},
   "source": [
    "See \"Sterile neutrinos, coherent scattering, and oscillometry measurements with low-temperature bolometers\" by Joseph A. Formaggio and etc (PHYSICAL REVIEW D 85, 013009 (2012)) for more information"
   ]
  },
  {
   "cell_type": "code",
   "execution_count": 20,
   "metadata": {
    "collapsed": false
   },
   "outputs": [
    {
     "data": {
      "text/plain": [
       "<matplotlib.legend.Legend at 0x7fbe3d042588>"
      ]
     },
     "execution_count": 20,
     "metadata": {},
     "output_type": "execute_result"
    },
    {
     "data": {
      "image/png": "[encoded data removed]",
      "text/plain": [
       "<matplotlib.figure.Figure at 0x7fbe3ce86b38>"
      ]
     },
     "metadata": {},
     "output_type": "display_data"
    }
   ],
   "source": [
    "nu_energy = linspace(1, 7, 100) # MeV\n",
    "\n",
    "cs_xe_total = cn.total_cross_section(Xe_Z, Xe_N, nu_energy) # MeV^(-2)\n",
    "cs_ar_total = cn.total_cross_section(Ar_Z, Ar_N, nu_energy)\n",
    "cs_ge_total = cn.total_cross_section(Ge_Z, Ge_N, nu_energy)\n",
    "\n",
    "plt.plot(nu_energy, cs_xe_total, label='Xe')\n",
    "plt.plot(nu_energy, cs_ar_total, label='Ar')\n",
    "plt.plot(nu_energy, cs_ge_total, label='Ge')\n",
    "\n",
    "plt.legend()"
   ]
  },
  {
   "cell_type": "markdown",
   "metadata": {},
   "source": [
    "### Differential cross section of the reaction neutrino coherent scattering on the nucleus "
   ]
  },
  {
   "cell_type": "markdown",
   "metadata": {
    "collapsed": true
   },
   "source": [
    "$$ \\frac{d\\sigma}{dT} = \\frac{G^2_F}{4\\pi} M_A Q^2_{W} \\Big(1 - \\frac{M_A T}{2E_{\\nu}^2} \\Big) F(q^2)^2$$"
   ]
  },
  {
   "cell_type": "markdown",
   "metadata": {},
   "source": [
    "T_{max} = \\frac{E_{\\nu}}{1 + \\frac{M_A}{2E_{\\nu}}}"
   ]
  },
  {
   "cell_type": "code",
   "execution_count": 5,
   "metadata": {
    "collapsed": false
   },
   "outputs": [
    {
     "data": {
      "text/plain": [
       "<matplotlib.legend.Legend at 0x7fe2363830f0>"
      ]
     },
     "execution_count": 5,
     "metadata": {},
     "output_type": "execute_result"
    },
    {
     "data": {
      "image/png": "[encoded data removed]",
      "text/plain": [
       "<matplotlib.figure.Figure at 0x7fe2363831d0>"
      ]
     },
     "metadata": {},
     "output_type": "display_data"
    }
   ],
   "source": [
    "nu_energy = 5 # MeV\n",
    "nucleus_max_kin = cn.max_kinetic_recoil_nucleus(Ar_M, nu_energy) # MeV\n",
    "nucleus_kin = linspace(0, nucleus_max_kin, 100)\n",
    "diff_cs = cn.differential_cross_section_for_nucleus_kinetic(Ar_Z, Ar_N, Ar_M, nu_energy, nucleus_kin)\n",
    "nucleus_kin *= 1000 # keV\n",
    "plt.plot(nucleus_kin, diff_cs, label='Enu = 5 MeV')\n",
    "\n",
    "nu_energy = 8 # MeV\n",
    "nucleus_max_kin = cn.max_kinetic_recoil_nucleus(Ar_M, nu_energy) # MeV\n",
    "nucleus_kin = linspace(0, nucleus_max_kin, 100)\n",
    "diff_cs = cn.differential_cross_section_for_nucleus_kinetic(Ar_Z, Ar_N, Ar_M, nu_energy, nucleus_kin)\n",
    "nucleus_kin *= 1000 # keV\n",
    "plt.plot(nucleus_kin, diff_cs, label='Enu = 8 MeV')\n",
    "\n",
    "\n",
    "plt.legend()"
   ]
  },
  {
   "cell_type": "code",
   "execution_count": null,
   "metadata": {
    "collapsed": true
   },
   "outputs": [],
   "source": []
  }
 ],
 "metadata": {
  "kernelspec": {
   "display_name": "Python 3",
   "language": "python",
   "name": "python3"
  },
  "language_info": {
   "codemirror_mode": {
    "name": "ipython",
    "version": 3
   },
   "file_extension": ".py",
   "mimetype": "text/x-python",
   "name": "python",
   "nbconvert_exporter": "python",
   "pygments_lexer": "ipython3",
   "version": "3.5.2"
  }
 },
 "nbformat": 4,
 "nbformat_minor": 0
}
