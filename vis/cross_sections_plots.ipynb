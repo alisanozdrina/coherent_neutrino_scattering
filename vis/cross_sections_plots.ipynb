{
 "cells": [
  {
   "cell_type": "markdown",
   "metadata": {},
   "source": [
    "# Here one can see plots of all cross section that we have in the project"
   ]
  },
  {
   "cell_type": "markdown",
   "metadata": {},
   "source": [
    "### Total cross section of the neutrino coherent scattering on the nucleus"
   ]
  },
  {
   "cell_type": "markdown",
   "metadata": {},
   "source": [
    "$$\\nu + _Z^AN \\rightarrow \\nu + _Z^AN$$\n"
   ]
  },
  {
   "cell_type": "markdown",
   "metadata": {},
   "source": [
    "$$ \\sigma_{total} = \\frac{G^2_F}{4\\pi}E_{\\nu}^2 Q^2_{W}$$"
   ]
  },
  {
   "cell_type": "markdown",
   "metadata": {},
   "source": [
    "See \"Sterile neutrinos, coherent scattering, and oscillometry measurements with low-temperature bolometers\" by Joseph A. Formaggio and etc (PHYSICAL REVIEW D 85, 013009 (2012)) for more information"
   ]
  },
  {
   "cell_type": "code",
   "execution_count": 2,
   "metadata": {
    "collapsed": false
   },
   "outputs": [
    {
     "data": {
      "text/plain": [
       "<matplotlib.legend.Legend at 0x7f0551a466a0>"
      ]
     },
     "execution_count": 2,
     "metadata": {},
     "output_type": "execute_result"
    },
    {
     "data": {
      "image/png": "[encoded data removed]",
      "text/plain": [
       "<matplotlib.figure.Figure at 0x7f056366f860>"
      ]
     },
     "metadata": {},
     "output_type": "display_data"
    }
   ],
   "source": [
    "import matplotlib.pyplot as plt\n",
    "from numpy import linspace\n",
    "%matplotlib inline\n",
    "\n",
    "import src.cross_sections as cs\n",
    "\n",
    "Xe_N = 77\n",
    "Xe_Z = 54\n",
    "Ar_N = 21\n",
    "Ar_Z = 18\n",
    "Ge_N = 41\n",
    "Ge_Z = 32\n",
    "\n",
    "energy_nu = linspace(0, 50, 500)\n",
    "\n",
    "cs_xe_total = cs.total_coherent_neutrino_nucleus(Xe_N, Xe_Z, energy_nu)\n",
    "cs_ar_total = cs.total_coherent_neutrino_nucleus(Ar_N, Ar_Z, energy_nu)\n",
    "cs_ge_total = cs.total_coherent_neutrino_nucleus(Ge_N, Ge_Z, energy_nu)\n",
    "\n",
    "plt.plot(energy_nu, cs_xe_total, label='Xe')\n",
    "plt.plot(energy_nu, cs_ar_total, label='Ar')\n",
    "plt.plot(energy_nu, cs_ge_total, label='Ge')\n",
    "\n",
    "plt.legend()\n"
   ]
  },
  {
   "cell_type": "code",
   "execution_count": null,
   "metadata": {
    "collapsed": true
   },
   "outputs": [],
   "source": [
    ""
   ]
  }
 ],
 "metadata": {
  "kernelspec": {
   "display_name": "Python 3",
   "language": "python",
   "name": "python3"
  },
  "language_info": {
   "codemirror_mode": {
    "name": "ipython",
    "version": 3.0
   },
   "file_extension": ".py",
   "mimetype": "text/x-python",
   "name": "python",
   "nbconvert_exporter": "python",
   "pygments_lexer": "ipython3",
   "version": "3.5.2"
  }
 },
 "nbformat": 4,
 "nbformat_minor": 0
}
