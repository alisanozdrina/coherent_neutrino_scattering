{
 "cells": [
  {
   "cell_type": "markdown",
   "metadata": {
    "collapsed": true
   },
   "source": [
    "#### Importing and constant defining section:\n"
   ]
  },
  {
   "cell_type": "code",
   "execution_count": 16,
   "metadata": {
    "collapsed": false
   },
   "outputs": [],
   "source": [
    "import matplotlib.pyplot as plt\n",
    "import numpy as np\n",
    "import os\n",
    "# to set current working directory coherent_neutrino_scattering/ (not coherent_neutrino_scattering/vis/)\n",
    "if os.getcwd()[-4:] == '/vis':\n",
    "    os.chdir('../')\n",
    "%matplotlib inline\n",
    "\n",
    "from lib.config import config\n",
    "import lib.coherent_neutrino_nucleus as cn\n",
    "import lib.phys_constants as phys\n",
    "from lib.supernova import single_neutrino_flux\n",
    "\n",
    "\n",
    "################################# Detector ##########################################################\n",
    "DISTANCE = 50 # m ()\n",
    "Ar_MOLAR_MASS = 38.964313 / 1000 # kg/mol\n",
    "Ar_M = 38.964313 * phys.ATOMIC_MASS_UNIT # MeV\n",
    "Ar_N = 21\n",
    "Ar_Z = 18\n",
    "DETECTOR_MASS = 20 * 1000 # kg\n",
    "NUMBER_TARGETS = phys.AVOGADRO * DETECTOR_MASS / Ar_MOLAR_MASS"
   ]
  },
  {
   "cell_type": "markdown",
   "metadata": {},
   "source": [
    "### Sample Reactor Antineutrino Flux and Spectrum"
   ]
  },
  {
   "cell_type": "markdown",
   "metadata": {},
   "source": [
    "Need to add some info"
   ]
  },
  {
   "cell_type": "code",
   "execution_count": 5,
   "metadata": {
    "collapsed": false
   },
   "outputs": [
    {
     "data": {
      "text/plain": [
       "<matplotlib.text.Text at 0x7f59c6c9f198>"
      ]
     },
     "execution_count": 5,
     "metadata": {},
     "output_type": "execute_result"
    },
    {
     "data": {
      "image/png": "[encoded data removed]",
      "text/plain": [
       "<matplotlib.figure.Figure at 0x7f59c6cfb470>"
      ]
     },
     "metadata": {},
     "output_type": "display_data"
    }
   ],
   "source": [
    "nu_energy_range = np.linspace(0, 60, 200) #MeV\n",
    "supernova_spectrum = single_neutrino_flux(nu_energy_range)\n",
    "\n",
    "plt.plot(nu_energy_range, supernova_spectrum)\n",
    "\n",
    "plt.xlabel('$E_{nu}$, MeV', fontsize=20)\n",
    "plt.ylabel('$ dN/dE_{nu} $', fontsize=20)"
   ]
  },
  {
   "cell_type": "markdown",
   "metadata": {},
   "source": [
    "### Kinetic energy spectrum of recoil nuclei"
   ]
  },
  {
   "cell_type": "markdown",
   "metadata": {},
   "source": [
    "$$ \\frac{dN}{dT} = \\int dE_{\\nu} \\frac{dF_{\\nu}}{dE_{\\nu}} \\frac{d\\sigma(E_{\\nu})}{dT} $$\n"
   ]
  },
  {
   "cell_type": "markdown",
   "metadata": {},
   "source": [
    "Initial def:"
   ]
  },
  {
   "cell_type": "code",
   "execution_count": 24,
   "metadata": {
    "collapsed": false
   },
   "outputs": [],
   "source": [
    "nucleus_max_kinetic = cn.max_kinetic_recoil_nucleus(Ar_M, nu_energy_range[nu_energy_range.size - 1]) # MeV\n",
    "nucleus_kinetic_range = np.linspace(0, nucleus_max_kinetic, 200)"
   ]
  },
  {
   "cell_type": "markdown",
   "metadata": {},
   "source": [
    "Producing recoil nuclei spectrum (integration):"
   ]
  },
  {
   "cell_type": "code",
   "execution_count": 25,
   "metadata": {
    "collapsed": false
   },
   "outputs": [
    {
     "name": "stderr",
     "output_type": "stream",
     "text": [
      "/home/krab/workdir/simulation/coherent_neutrino_scattering/lib/coherent_neutrino_nucleus.py:41: RuntimeWarning: invalid value encountered in double_scalars\n",
      "  differential_cs = G_FERMI**2 / (4 * math.pi) * Q_weak**2 * nucleus_m * (1 - (nucleus_m * nucleus_kin) / (2 * nu_energy**2))\n"
     ]
    },
    {
     "data": {
      "text/plain": [
       "<matplotlib.text.Text at 0x7f59c69db198>"
      ]
     },
     "execution_count": 25,
     "metadata": {},
     "output_type": "execute_result"
    },
    {
     "data": {
      "image/png": "[encoded data removed]",
      "text/plain": [
       "<matplotlib.figure.Figure at 0x7f59c6a527b8>"
      ]
     },
     "metadata": {},
     "output_type": "display_data"
    }
   ],
   "source": [
    "en_increment = nu_energy_range[1] - nu_energy_range[0]\n",
    "nucleus_kinetic_spectrum = []\n",
    "\n",
    "for nucleus_kinetic in nucleus_kinetic_range:\n",
    "    #min nu energy to integrate\n",
    "    min_nu_energy = cn.min_energy_neutrino_produce_recoil_nucleus(Ar_M, nucleus_kinetic) \n",
    "    #index in nu_energy_range\n",
    "    first_index = np.argmax(nu_energy_range >= min_nu_energy)\n",
    "    probability_density = 0\n",
    "    \n",
    "    for i in range(first_index, nu_energy_range.size):\n",
    "        diff_cs = cn.differential_cross_section_for_nucleus_kinetic(Ar_Z, Ar_N, Ar_M, nu_energy_range[i], nucleus_kinetic)\n",
    "        diff_cs *= phys.CONVERSION_hc**2 ## MeV^-2 ---> m^2\n",
    "        probability_density += en_increment * supernova_spectrum[i] * diff_cs\n",
    "        \n",
    "    nucleus_kinetic_spectrum.append(probability_density)\n",
    "\n",
    "nucleus_kinetic_spectrum = np.array(nucleus_kinetic_spectrum)\n",
    "\n",
    "plt.plot(nucleus_kinetic_range*1000, nucleus_kinetic_spectrum)\n",
    "plt.xlabel('$T}$, keV', fontsize=20)\n",
    "plt.ylabel('$ dN/dT$', fontsize=20)"
   ]
  },
  {
   "cell_type": "code",
   "execution_count": 27,
   "metadata": {
    "collapsed": false
   },
   "outputs": [
    {
     "data": {
      "text/plain": [
       "17.806883346524582"
      ]
     },
     "execution_count": 27,
     "metadata": {},
     "output_type": "execute_result"
    }
   ],
   "source": [
    "total_events = 0.\n",
    "treashold = 0.5 / 1000 # MeV\n",
    "delta_kin = nucleus_kinetic_range[1] - nucleus_kinetic_range[0]\n",
    "for i in range(nucleus_kinetic_range.size):\n",
    "    if nucleus_kinetic_range[i] < treashold:\n",
    "        continue\n",
    "    total_events += nucleus_kinetic_spectrum[i] * delta_kin\n",
    "    \n",
    "total_events * NUMBER_TARGETS"
   ]
  },
  {
   "cell_type": "code",
   "execution_count": null,
   "metadata": {
    "collapsed": false
   },
   "outputs": [],
   "source": []
  },
  {
   "cell_type": "code",
   "execution_count": null,
   "metadata": {
    "collapsed": true
   },
   "outputs": [],
   "source": []
  }
 ],
 "metadata": {
  "kernelspec": {
   "display_name": "Python 3",
   "language": "python",
   "name": "python3"
  },
  "language_info": {
   "codemirror_mode": {
    "name": "ipython",
    "version": 3
   },
   "file_extension": ".py",
   "mimetype": "text/x-python",
   "name": "python",
   "nbconvert_exporter": "python",
   "pygments_lexer": "ipython3",
   "version": "3.5.2"
  }
 },
 "nbformat": 4,
 "nbformat_minor": 0
}
