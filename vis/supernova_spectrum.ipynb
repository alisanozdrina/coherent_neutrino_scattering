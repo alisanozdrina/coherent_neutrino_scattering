{
 "cells": [
  {
   "cell_type": "markdown",
   "metadata": {
    "collapsed": true
   },
   "source": [
    "#### Importing and constant defining section:\n"
   ]
  },
  {
   "cell_type": "code",
   "execution_count": 16,
   "metadata": {
    "collapsed": false
   },
   "outputs": [],
   "source": [
    "import matplotlib.pyplot as plt\n",
    "import numpy as np\n",
    "import os\n",
    "# to set current working directory coherent_neutrino_scattering/ (not coherent_neutrino_scattering/vis/)\n",
    "if os.getcwd()[-4:] == '/vis':\n",
    "    os.chdir('../')\n",
    "%matplotlib inline\n",
    "\n",
    "from lib.config import config\n",
    "import lib.coherent_neutrino_nucleus as cn\n",
    "import lib.phys_constants as phys\n",
    "from lib.supernova import single_neutrino_flux\n",
    "\n",
    "\n",
    "################################# Detector ##########################################################\n",
    "DISTANCE = 50 # m ()\n",
    "Ar_MOLAR_MASS = 38.964313 / 1000 # kg/mol\n",
    "Ar_M = 38.964313 * phys.ATOMIC_MASS_UNIT # MeV\n",
    "Ar_N = 21\n",
    "Ar_Z = 18\n",
    "DETECTOR_MASS = 20 * 1000 # kg\n",
    "NUMBER_TARGETS = phys.AVOGADRO * DETECTOR_MASS / Ar_MOLAR_MASS"
   ]
  },
  {
   "cell_type": "markdown",
   "metadata": {},
   "source": [
    "### Sample Reactor Antineutrino Flux and Spectrum"
   ]
  },
  {
   "cell_type": "markdown",
   "metadata": {},
   "source": [
    "Need to add some info"
   ]
  },
  {
   "cell_type": "code",
   "execution_count": 5,
   "metadata": {
    "collapsed": false
   },
   "outputs": [
    {
     "data": {
      "text/plain": [
       "<matplotlib.text.Text at 0x7f59c6c9f198>"
      ]
     },
     "execution_count": 5,
     "metadata": {},
     "output_type": "execute_result"
    },
    {
     "data": {
      "image/png": "[encoded data removed]",
      "text/plain": [
       "<matplotlib.figure.Figure at 0x7f59c6cfb470>"
      ]
     },
     "metadata": {},
     "output_type": "display_data"
    }
   ],
   "source": [
    "nu_energy_range = np.linspace(0, 60, 200) #MeV\n",
    "supernova_spectrum = single_neutrino_flux(nu_energy_range)\n",
    "\n",
    "plt.plot(nu_energy_range, supernova_spectrum)\n",
    "\n",
    "plt.xlabel('$E_{nu}$, MeV', fontsize=20)\n",
    "plt.ylabel('$ dN/dE_{nu} $', fontsize=20)"
   ]
  },
  {
   "cell_type": "markdown",
   "metadata": {},
   "source": [
    "### Kinetic energy spectrum of recoil nuclei"
   ]
  },
  {
   "cell_type": "markdown",
   "metadata": {},
   "source": [
    "$$ \\frac{dN}{dT} = \\int dE_{\\nu} \\frac{dF_{\\nu}}{dE_{\\nu}} \\frac{d\\sigma(E_{\\nu})}{dT} $$\n"
   ]
  },
  {
   "cell_type": "markdown",
   "metadata": {},
   "source": [
    "Initial def:"
   ]
  },
  {
   "cell_type": "code",
   "execution_count": 8,
   "metadata": {
    "collapsed": false
   },
   "outputs": [],
   "source": [
    "nucleus_max_kinetic = cn.max_kinetic_recoil_nucleus(Ar_M, nu_energy_range[nu_energy_range.size - 1]) # MeV\n",
    "nucleus_kinetic_range = np.linspace(0, nucleus_max_kinetic, 100)"
   ]
  },
  {
   "cell_type": "markdown",
   "metadata": {},
   "source": [
    "Producing recoil nuclei spectrum (integration):"
   ]
  },
  {
   "cell_type": "code",
   "execution_count": 14,
   "metadata": {
    "collapsed": false
   },
   "outputs": [
    {
     "name": "stderr",
     "output_type": "stream",
     "text": [
      "/home/krab/workdir/simulation/coherent_neutrino_scattering/lib/coherent_neutrino_nucleus.py:41: RuntimeWarning: invalid value encountered in double_scalars\n",
      "  differential_cs = G_FERMI**2 / (4 * math.pi) * Q_weak**2 * nucleus_m * (1 - (nucleus_m * nucleus_kin) / (2 * nu_energy**2))\n"
     ]
    },
    {
     "data": {
      "text/plain": [
       "<matplotlib.text.Text at 0x7f59c6aba2e8>"
      ]
     },
     "execution_count": 14,
     "metadata": {},
     "output_type": "execute_result"
    },
    {
     "data": {
      "image/png": "[encoded data removed]",
      "text/plain": [
       "<matplotlib.figure.Figure at 0x7f59c6d3feb8>"
      ]
     },
     "metadata": {},
     "output_type": "display_data"
    }
   ],
   "source": [
    "en_increment = nu_energy_range[1] - nu_energy_range[0]\n",
    "nucleus_kinetic_spectrum = []\n",
    "\n",
    "for nucleus_kinetic in nucleus_kinetic_range:\n",
    "    #min nu energy to integrate\n",
    "    min_nu_energy = cn.min_energy_neutrino_produce_recoil_nucleus(Ar_M, nucleus_kinetic) \n",
    "    #index in nu_energy_range\n",
    "    first_index = np.argmax(nu_energy_range >= min_nu_energy)\n",
    "    probability_density = 0\n",
    "    \n",
    "    for i in range(first_index, nu_energy_range.size):\n",
    "        diff_cs = cn.differential_cross_section_for_nucleus_kinetic(Ar_Z, Ar_N, Ar_M, nu_energy_range[i], nucleus_kinetic)\n",
    "        diff_cs *= phys.CONVERSION_hc**2 ## MeV^-2 ---> m^2\n",
    "        probability_density += en_increment * supernova_spectrum[i] * diff_cs\n",
    "        \n",
    "    nucleus_kinetic_spectrum.append(probability_density)\n",
    "\n",
    "nucleus_kinetic_spectrum = np.array(nucleus_kinetic_spectrum)\n",
    "\n",
    "plt.plot(nucleus_kinetic_range*1000, nucleus_kinetic_spectrum)\n",
    "plt.xlabel('$T}$, keV', fontsize=20)\n",
    "plt.ylabel('$ dN/dT$', fontsize=20)"
   ]
  },
  {
   "cell_type": "code",
   "execution_count": 22,
   "metadata": {
    "collapsed": false
   },
   "outputs": [
    {
     "data": {
      "text/plain": [
       "16.125531353645897"
      ]
     },
     "execution_count": 22,
     "metadata": {},
     "output_type": "execute_result"
    }
   ],
   "source": [
    "total_events = 0.\n",
    "treashold = 0.1 / 1000 # MeV\n",
    "delta_kin = nucleus_kinetic_range[1] - nucleus_kinetic_range[0]\n",
    "for i in range(nucleus_kinetic_range.size):\n",
    "    if nucleus_kinetic_range[i] < treashold:\n",
    "        continue\n",
    "    total_events += nucleus_kinetic_spectrum[i] * delta_kin\n",
    "    \n",
    "total_events * NUMBER_TARGETS"
   ]
  },
  {
   "cell_type": "code",
   "execution_count": 23,
   "metadata": {
    "collapsed": false
   },
   "outputs": [
    {
     "data": {
      "text/plain": [
       "array([ 0.        ,  0.00199718,  0.00399435,  0.00599153,  0.00798871,\n",
       "        0.00998589,  0.01198306,  0.01398024,  0.01597742,  0.0179746 ,\n",
       "        0.01997177,  0.02196895,  0.02396613,  0.02596331,  0.02796048,\n",
       "        0.02995766,  0.03195484,  0.03395202,  0.03594919,  0.03794637,\n",
       "        0.03994355,  0.04194073,  0.0439379 ,  0.04593508,  0.04793226,\n",
       "        0.04992944,  0.05192661,  0.05392379,  0.05592097,  0.05791815,\n",
       "        0.05991532,  0.0619125 ,  0.06390968,  0.06590686,  0.06790403,\n",
       "        0.06990121,  0.07189839,  0.07389557,  0.07589274,  0.07788992,\n",
       "        0.0798871 ,  0.08188428,  0.08388145,  0.08587863,  0.08787581,\n",
       "        0.08987299,  0.09187016,  0.09386734,  0.09586452,  0.0978617 ,\n",
       "        0.09985887,  0.10185605,  0.10385323,  0.10585041,  0.10784758,\n",
       "        0.10984476,  0.11184194,  0.11383912,  0.11583629,  0.11783347,\n",
       "        0.11983065,  0.12182783,  0.123825  ,  0.12582218,  0.12781936,\n",
       "        0.12981654,  0.13181371,  0.13381089,  0.13580807,  0.13780525,\n",
       "        0.13980242,  0.1417996 ,  0.14379678,  0.14579396,  0.14779113,\n",
       "        0.14978831,  0.15178549,  0.15378267,  0.15577984,  0.15777702,\n",
       "        0.1597742 ,  0.16177138,  0.16376855,  0.16576573,  0.16776291,\n",
       "        0.16976009,  0.17175726,  0.17375444,  0.17575162,  0.1777488 ,\n",
       "        0.17974597,  0.18174315,  0.18374033,  0.18573751,  0.18773468,\n",
       "        0.18973186,  0.19172904,  0.19372622,  0.19572339,  0.19772057])"
      ]
     },
     "execution_count": 23,
     "metadata": {},
     "output_type": "execute_result"
    }
   ],
   "source": [
    "nucleus_kinetic_range"
   ]
  },
  {
   "cell_type": "code",
   "execution_count": null,
   "metadata": {
    "collapsed": true
   },
   "outputs": [],
   "source": []
  }
 ],
 "metadata": {
  "kernelspec": {
   "display_name": "Python 3",
   "language": "python",
   "name": "python3"
  },
  "language_info": {
   "codemirror_mode": {
    "name": "ipython",
    "version": 3
   },
   "file_extension": ".py",
   "mimetype": "text/x-python",
   "name": "python",
   "nbconvert_exporter": "python",
   "pygments_lexer": "ipython3",
   "version": "3.5.2"
  }
 },
 "nbformat": 4,
 "nbformat_minor": 0
}
