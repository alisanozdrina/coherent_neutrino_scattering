{
 "cells": [
  {
   "cell_type": "markdown",
   "metadata": {},
   "source": [
    "##### importing and constant defining section:\n"
   ]
  },
  {
   "cell_type": "code",
   "execution_count": 24,
   "metadata": {
    "collapsed": false
   },
   "outputs": [],
   "source": [
    "import matplotlib.pyplot as plt\n",
    "from numpy import linspace\n",
    "import os\n",
    "# to set current working directory coherent_neutrino_scattering/ (not coherent_neutrino_scattering/vis/)\n",
    "if os.getcwd()[-4:] == '/vis':\n",
    "    os.chdir('../')\n",
    "%matplotlib inline\n",
    "\n",
    "from src.config import config\n",
    "import src.coherent_neutrino_nucleus as cn\n",
    "import src.phys_constants as p_const\n",
    "from src.SpectrumInterpolator import SpectrumInterpolator\n",
    "\n",
    "Ar_N = 21\n",
    "Ar_Z = 18\n",
    "Ar_M = 38.964313 * p_const.ATOMIC_MASS_UNIT # MeV"
   ]
  },
  {
   "cell_type": "markdown",
   "metadata": {},
   "source": [
    "### Sample Reactor Antineutrino Flux and Spectrum"
   ]
  },
  {
   "cell_type": "markdown",
   "metadata": {},
   "source": [
    "plots"
   ]
  },
  {
   "cell_type": "markdown",
   "metadata": {},
   "source": [
    "formula for total flow"
   ]
  },
  {
   "cell_type": "markdown",
   "metadata": {},
   "source": [
    "### Kinetic energy spectrum of recoil nuclei"
   ]
  },
  {
   "cell_type": "markdown",
   "metadata": {},
   "source": [
    "$$ \\frac{dN}{dT} = \\int dE_{\\nu} \\frac{dF_{\\nu}}{dE_{\\nu}} \\frac{d\\sigma(E_{\\nu})}{dT} $$"
   ]
  },
  {
   "cell_type": "code",
   "execution_count": 25,
   "metadata": {
    "collapsed": false
   },
   "outputs": [],
   "source": [
    "nu_energy_range = linspace(1, 7, 100) # MeV\n",
    "nucleus_max_kin = cn.max_kinetic_recoil_nucleus(Ar_M, nu_energy_range[nu_energy_range.size - 1]) # MeV\n",
    "\n",
    "data_path = os.path.abspath(config['DATA_PATH'] + 'mock_reactor_neutrino_spectrum.csv')\n",
    "interpolator = SpectrumInterpolator(data_path, 'E', 'dN_dE')"
   ]
  }
 ],
 "metadata": {
  "kernelspec": {
   "display_name": "Python 3",
   "language": "python",
   "name": "python3"
  },
  "language_info": {
   "codemirror_mode": {
    "name": "ipython",
    "version": 3
   },
   "file_extension": ".py",
   "mimetype": "text/x-python",
   "name": "python",
   "nbconvert_exporter": "python",
   "pygments_lexer": "ipython3",
   "version": "3.5.2"
  }
 },
 "nbformat": 4,
 "nbformat_minor": 0
}
