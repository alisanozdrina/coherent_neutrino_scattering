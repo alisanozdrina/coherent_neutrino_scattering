{
 "cells": [
  {
   "cell_type": "markdown",
   "metadata": {},
   "source": [
    "##### Importing and constant defining section:\n"
   ]
  },
  {
   "cell_type": "code",
   "execution_count": 1,
   "metadata": {
    "collapsed": false
   },
   "outputs": [],
   "source": [
    "import matplotlib.pyplot as plt\n",
    "import numpy as np\n",
    "import os\n",
    "# to set current working directory coherent_neutrino_scattering/ (not coherent_neutrino_scattering/vis/)\n",
    "if os.getcwd()[-4:] == '/vis':\n",
    "    os.chdir('../')\n",
    "%matplotlib inline\n",
    "\n",
    "from src.config import config\n",
    "import src.coherent_neutrino_nucleus as cn\n",
    "import src.phys_constants as p_const\n",
    "from src.SpectrumInterpolator import SpectrumInterpolator\n",
    "\n",
    "Ar_N = 21\n",
    "Ar_Z = 18\n",
    "Ar_M = 38.964313 * p_const.ATOMIC_MASS_UNIT # MeV"
   ]
  },
  {
   "cell_type": "markdown",
   "metadata": {},
   "source": [
    "### Sample Reactor Antineutrino Flux and Spectrum"
   ]
  },
  {
   "cell_type": "markdown",
   "metadata": {},
   "source": [
    "plots"
   ]
  },
  {
   "cell_type": "markdown",
   "metadata": {},
   "source": [
    "formula for total flow"
   ]
  },
  {
   "cell_type": "markdown",
   "metadata": {},
   "source": [
    "### Kinetic energy spectrum of recoil nuclei"
   ]
  },
  {
   "cell_type": "markdown",
   "metadata": {},
   "source": [
    "$$ \\frac{dN}{dT} = \\int dE_{\\nu} \\frac{dF_{\\nu}}{dE_{\\nu}} \\frac{d\\sigma(E_{\\nu})}{dT} $$"
   ]
  },
  {
   "cell_type": "markdown",
   "metadata": {},
   "source": [
    "Initial def:"
   ]
  },
  {
   "cell_type": "code",
   "execution_count": 4,
   "metadata": {
    "collapsed": false
   },
   "outputs": [],
   "source": [
    "nu_energy_range = np.linspace(1, 7, 100) # MeV\n",
    "nucleus_max_kinetic = cn.max_kinetic_recoil_nucleus(Ar_M, nu_energy_range[nu_energy_range.size - 1]) # MeV\n",
    "nucleus_kinetic_range = np.linspace(0, nucleus_max_kinetic, 100)"
   ]
  },
  {
   "cell_type": "markdown",
   "metadata": {},
   "source": [
    "Loading and interpolating reactor neutrino spectrum:"
   ]
  },
  {
   "cell_type": "code",
   "execution_count": 6,
   "metadata": {
    "collapsed": true
   },
   "outputs": [],
   "source": [
    "data_path = os.path.abspath(config['DATA_PATH'] + 'mock_reactor_neutrino_spectrum.csv')\n",
    "interpolator = SpectrumInterpolator(data_path, 'E', 'dN_dE')\n",
    "\n",
    "nu_energy_spectrum = []\n",
    "for i in range(nu_energy_range.size):\n",
    "    probability_density = interpolator.interpolate(nu_energy_range[i])\n",
    "    nu_energy_spectrum.append(probability_density)\n",
    "    \n",
    "nu_energy_spectrum = np.array(nu_energy_spectrum)"
   ]
  },
  {
   "cell_type": "markdown",
   "metadata": {},
   "source": [
    "Producing recoil nuclei spectrum (integration):"
   ]
  },
  {
   "cell_type": "code",
   "execution_count": null,
   "metadata": {
    "collapsed": true
   },
   "outputs": [],
   "source": [
    "en_increment = nu_energy_spectrum[1] - nu_energy_spectrum[0]\n",
    "nucleus_kinetic_spectrum = []\n",
    "for nucleus_kinetic in nucleus_kinetic_range:\n",
    "    #min nu energy to integrate\n",
    "    min_nu_energy = cn.min_energy_neutrino_produce_recoil_nucleus(Ar_M, nucleus_kinetic) \n",
    "    #index in nu_energy_range\n",
    "    first_index = np.argmax(nu_energy_range >= min_nu_energy)\n",
    "    \n",
    "    probability_density = 0\n",
    "    for i in range(first_index, nu_energy_range.size):\n",
    "        diff_cs = cn.differential_cross_section_for_nucleus_kinetic(Ar_Z, Ar_N, Ar_M, nu_energy_range[i], nucleus_kinetic)\n",
    "        probability_density += en_increment * nu_energy_spectrum[i] * diff_cs\n",
    "        \n",
    "    nucleus_kinetic_spectrum.append(probability_density)\n",
    "\n",
    "nucleus_kinetic_spectrum = np.array(nucleus_kinetic_spectrum)"
   ]
  }
 ],
 "metadata": {
  "kernelspec": {
   "display_name": "Python 3",
   "language": "python",
   "name": "python3"
  },
  "language_info": {
   "codemirror_mode": {
    "name": "ipython",
    "version": 3
   },
   "file_extension": ".py",
   "mimetype": "text/x-python",
   "name": "python",
   "nbconvert_exporter": "python",
   "pygments_lexer": "ipython3",
   "version": "3.5.2"
  }
 },
 "nbformat": 4,
 "nbformat_minor": 0
}
